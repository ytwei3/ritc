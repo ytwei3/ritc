{
 "cells": [
  {
   "cell_type": "code",
   "execution_count": null,
   "metadata": {},
   "outputs": [],
   "source": [
    "import requests\n",
    "from time import sleep"
   ]
  },
  {
   "cell_type": "code",
   "execution_count": null,
   "metadata": {},
   "outputs": [],
   "source": [
    "# Global variables\n",
    "url = \"http://localhost:9999/v1\"\n",
    "key = \"114514\""
   ]
  },
  {
   "cell_type": "code",
   "execution_count": null,
   "metadata": {},
   "outputs": [],
   "source": [
    "import pandas as pd\n",
    "\n",
    "df = pd.read_csv(\"../data/op3_per_sec.csv\", index_col=0)\n",
    "\n",
    "# drop if tick = 0\n",
    "df = df[df[\"tick\"] != 0]\n",
    "\n",
    "# if iv > 0.4, replace with 0.4\n",
    "df[\"iv\"] = df[\"iv\"].apply(lambda x: min(x, 0.4))\n",
    "df[\"rv\"] = df[\"tick\"].apply(lambda x: 0.2 if x <= 150 else 0.17 if 150 < x <= 300 else 0.21 if 300 < x <= 450 else 0.24)\n",
    "\n",
    "# is ma is nan, drop it\n",
    "# if tick > 500, drop it\n",
    "rtm48c = df[df[\"name\"] == \"RTM48C\"]\n",
    "\n",
    "# calulate ema\n",
    "rtm48c[\"iv_ema_short\"] = rtm48c[\"iv\"].ewm(span=12).mean()\n",
    "rtm48c[\"iv_ema_long\"] = rtm48c[\"iv\"].ewm(span=26).mean()\n",
    "\n",
    "\n",
    "# calulate ma\n",
    "rtm48c[\"iv_ma_short\"] = rtm48c[\"iv\"].rolling(3).mean()\n",
    "rtm48c[\"iv_ma_long\"] = rtm48c[\"iv\"].rolling(9).mean()\n",
    "\n",
    "# drop nan\n",
    "rtm48c = rtm48c.dropna(subset=[\"iv_ma_short\", \"iv_ma_long\"])\n",
    "\n",
    "rtm48c.head(5)"
   ]
  },
  {
   "cell_type": "code",
   "execution_count": null,
   "metadata": {},
   "outputs": [],
   "source": [
    "# set pd option to show all columns\n",
    "pd.set_option(\"display.max_columns\", None)\n",
    "pd.set_option(\"display.max_rows\", None)\n"
   ]
  },
  {
   "cell_type": "markdown",
   "metadata": {},
   "source": [
    "1. after 500 tick, the iv is not relible anymore.\n",
    "2. avoid fake signal. -> (1. use ema to replace ma. aombine rv to indicate).\n",
    "\n",
    "| week | rv |\n",
    "| --| --|\n",
    "| 1     | 20% |\n",
    "|2| 17%|\n",
    "| 3| 21%|\n",
    "|4| 24%|"
   ]
  },
  {
   "cell_type": "code",
   "execution_count": null,
   "metadata": {},
   "outputs": [],
   "source": [
    "import seaborn as sns\n",
    "\n",
    "# with a larger size of the figure\n",
    "sns.relplot(data=df, x=\"tick\", y=\"iv\", hue=\"name\", kind=\"line\" , height=10, aspect=2)\n",
    "# sns.relplot(data=df[df[\"name\"] == \"RTM52C\"], x=\"tick\", y=\"iv\", kind=\"line\")\n",
    "\n",
    "# draw rv in same figure\n",
    "# sns.relplot(data=df, x=\"tick\", y=\"rv\", kind=\"line\", height=10, aspect=2, color=\"red\")"
   ]
  },
  {
   "cell_type": "code",
   "execution_count": null,
   "metadata": {},
   "outputs": [],
   "source": [
    "import matplotlib.pyplot as plt\n",
    "\n",
    "plotted_df = rtm48c\n",
    "\n",
    "\n",
    "plt.figure(figsize=(20, 10))\n",
    "plt.plot(plotted_df[\"tick\"], plotted_df[\"iv\"], label=\"iv\", color=\"blue\")\n",
    "               \n",
    "plt.plot(plotted_df[\"tick\"], plotted_df[\"iv_ema_short\"], label=\"iv_ema_short\", color=\"green\")\n",
    "plt.plot(plotted_df[\"tick\"], plotted_df[\"iv_ema_long\"], label=\"iv_ema_long\", color=\"orange\")\n",
    "               \n",
    "               \n",
    "plt.plot(plotted_df[\"tick\"], plotted_df[\"rv\"], label=\"rv\", color=\"purple\")\n",
    "\n",
    "\n",
    "plt.legend()\n",
    "plt.title(\"IV and RV\")\n",
    "plt.show()"
   ]
  },
  {
   "cell_type": "code",
   "execution_count": null,
   "metadata": {},
   "outputs": [],
   "source": [
    "import talib as ta\n",
    "\n",
    "\n",
    "plotted_df = rtm48c\n",
    "\n",
    "ta.RSI(plotted_df[\"iv\"], timeperiod=14)\n",
    "# plot rsi\n",
    "plt.figure(figsize=(20, 10))\n",
    "plt.plot(plotted_df[\"tick\"], ta.RSI(plotted_df[\"iv\"], timeperiod=14), label=\"rsi\", color=\"blue\")\n",
    "plt.legend()\n",
    "plt.title(\"RSI\")\n",
    "plt.show()\n"
   ]
  },
  {
   "cell_type": "code",
   "execution_count": null,
   "metadata": {},
   "outputs": [],
   "source": [
    "macd, macdsignal, macdhist = ta.MACD(plotted_df[\"iv\"], fastperiod=3, slowperiod=9, signalperiod=3)\n",
    "\n",
    "# plot macd\n",
    "plt.figure(figsize=(20, 10))\n",
    "\n",
    "plt.plot(plotted_df[\"tick\"], macd, label=\"macd\", color=\"blue\")\n",
    "plt.plot(plotted_df[\"tick\"], macdsignal, label=\"macdsignal\", color=\"green\")\n",
    "plt.plot(plotted_df[\"tick\"], macdhist, label=\"macdhist\", color=\"orange\")\n",
    "\n",
    "plt.legend()\n",
    "plt.title(\"MACD\")\n",
    "plt.show()\n"
   ]
  },
  {
   "cell_type": "code",
   "execution_count": null,
   "metadata": {},
   "outputs": [],
   "source": [
    "# plot rtm48c with its iv, ma3 and ma10 in only one figure, three lines!\n",
    "import matplotlib.pyplot as plt\n",
    "\n",
    "rtm48c_100 = rtm48c[rtm48c[\"tick\"] < 100]\n",
    "# if ma30 > ma3, signal = 1, else signal = 0\n",
    "\n",
    "plt.figure(figsize=(20, 10))\n",
    "# ema chart\n",
    "# df_merged = pd.melt(rtm48c, id_vars=['tick', 'name'], value_vars=['iv', 'iv_ema_short', 'iv_ema_long'], var_name='variable', value_name='value')\n",
    "# ma chart\n",
    "df_merged = pd.melt(rtm48c, id_vars=['tick', 'name'], value_vars=['iv', 'iv_ma_short', 'iv_ma_long'], var_name='variable', value_name='value')\n",
    "sns.lineplot(data=df_merged, x='tick', y='value', hue='variable')\n",
    "plt.show()"
   ]
  },
  {
   "cell_type": "code",
   "execution_count": null,
   "metadata": {},
   "outputs": [],
   "source": [
    "import matplotlib.pyplot as plt\n",
    "import seaborn as sns\n",
    "\n",
    "plt.figure()\n",
    "rtm52c = df[df[\"name\"] == \"RTM52C\"]\n",
    "rtm52p = df[df[\"name\"] == \"RTM52P\"]\n",
    "\n",
    "plt.plot(rtm52c[\"tick\"], rtm52c[\"iv\"], label=\"RTM52C\")\n",
    "plt.plot(rtm52p[\"tick\"], rtm52p[\"iv\"], label=\"RTM52P\")\n",
    "\n",
    "plt.legend()\n",
    "\n",
    "\n",
    "plt.show()"
   ]
  },
  {
   "cell_type": "code",
   "execution_count": null,
   "metadata": {},
   "outputs": [],
   "source": []
  }
 ],
 "metadata": {
  "kernelspec": {
   "display_name": "rit",
   "language": "python",
   "name": "python3"
  },
  "language_info": {
   "codemirror_mode": {
    "name": "ipython",
    "version": 3
   },
   "file_extension": ".py",
   "mimetype": "text/x-python",
   "name": "python",
   "nbconvert_exporter": "python",
   "pygments_lexer": "ipython3",
   "version": "3.10.13"
  }
 },
 "nbformat": 4,
 "nbformat_minor": 2
}
